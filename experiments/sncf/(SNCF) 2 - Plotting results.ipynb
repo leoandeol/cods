{
 "cells": [
  {
   "cell_type": "code",
   "execution_count": 5,
   "id": "6f9098e6",
   "metadata": {},
   "outputs": [],
   "source": [
    "import pickle as pkl"
   ]
  },
  {
   "cell_type": "code",
   "execution_count": 6,
   "id": "abd4f581",
   "metadata": {},
   "outputs": [],
   "source": [
    "results = pkl.load(open(\"sncf_results.pkl\", \"rb\"))"
   ]
  },
  {
   "cell_type": "code",
   "execution_count": 7,
   "id": "1c0dc18b",
   "metadata": {},
   "outputs": [
    {
     "data": {
      "text/plain": [
       "{'cods-sncf/yolo11x_sncf4/weights/best.pt': <cods.od.data.predictions.ODResults at 0x764bb7d4ca50>,\n",
       " 'cods-sncf/yolov10x_sncf/weights/best.pt': 'Error: No good lambda found',\n",
       " 'cods-sncf/yolo12x_sncf15/weights/best.pt': <cods.od.data.predictions.ODResults at 0x764b7ac45f50>,\n",
       " 'cods-sncf/yolo12x_sncf10/weights/last.pt': <cods.od.data.predictions.ODResults at 0x764b72c8f9d0>,\n",
       " 'cods-sncf/yolo12x_sncf6/weights/best.pt': <cods.od.data.predictions.ODResults at 0x764b71944950>}"
      ]
     },
     "execution_count": 7,
     "metadata": {},
     "output_type": "execute_result"
    }
   ],
   "source": [
    "results"
   ]
  },
  {
   "cell_type": "code",
   "execution_count": 8,
   "id": "2305131e",
   "metadata": {},
   "outputs": [
    {
     "name": "stdout",
     "output_type": "stream",
     "text": [
      "Model: cods-sncf/yolo11x_sncf4/weights/best.pt\n",
      "\t Confidence Risk: 0.0000\n",
      "\t Confidence Set Size: 1.2921\n",
      "\t Localization Risk: 0.0038\n",
      "\t Localization Set Size: 1.2502\n",
      "\t Classification Risk: 0.0005\n",
      "\t Classification Set Size: 1.0050\n",
      "\t Global Risk: 0.0043\n",
      "Model: cods-sncf/yolov10x_sncf/weights/best.pt\n",
      "\t Error: Error: No good lambda found\n",
      "Model: cods-sncf/yolo12x_sncf15/weights/best.pt\n",
      "\t Confidence Risk: 0.0000\n",
      "\t Confidence Set Size: 1.2357\n",
      "\t Localization Risk: 0.0042\n",
      "\t Localization Set Size: 1.2380\n",
      "\t Classification Risk: 0.0008\n",
      "\t Classification Set Size: 1.0086\n",
      "\t Global Risk: 0.0049\n",
      "Model: cods-sncf/yolo12x_sncf10/weights/last.pt\n",
      "\t Confidence Risk: 0.0008\n",
      "\t Confidence Set Size: 1.2056\n",
      "\t Localization Risk: 0.0052\n",
      "\t Localization Set Size: 1.1761\n",
      "\t Classification Risk: 0.0008\n",
      "\t Classification Set Size: 1.0003\n",
      "\t Global Risk: 0.0052\n",
      "Model: cods-sncf/yolo12x_sncf6/weights/best.pt\n",
      "\t Confidence Risk: 0.0008\n",
      "\t Confidence Set Size: 1.2689\n",
      "\t Localization Risk: 0.0045\n",
      "\t Localization Set Size: 1.2127\n",
      "\t Classification Risk: 0.0015\n",
      "\t Classification Set Size: 1.0044\n",
      "\t Global Risk: 0.0051\n"
     ]
    }
   ],
   "source": [
    "for name, result in results.items():\n",
    "    print(f\"Model: {name}\")\n",
    "    if isinstance(result, str):\n",
    "        print(f\"\\t Error: {result}\")\n",
    "        continue\n",
    "    print(f\"\\t Confidence Risk: {result.confidence_coverages.mean():.4f}\")\n",
    "    print(f\"\\t Confidence Set Size: {result.confidence_set_sizes.mean():.4f}\")\n",
    "    print(f\"\\t Localization Risk: {result.localization_coverages.mean():.4f}\")\n",
    "    print(f\"\\t Localization Set Size: {result.localization_set_sizes.mean():.4f}\")\n",
    "    print(f\"\\t Classification Risk: {result.classification_coverages.mean():.4f}\")\n",
    "    print(f\"\\t Classification Set Size: {result.classification_set_sizes.mean():.4f}\")\n",
    "    print(f\"\\t Global Risk: {result.global_coverage.mean():.4f}\")\n"
   ]
  },
  {
   "cell_type": "code",
   "execution_count": null,
   "id": "e710a6b7",
   "metadata": {},
   "outputs": [],
   "source": []
  }
 ],
 "metadata": {
  "kernelspec": {
   "display_name": ".venv",
   "language": "python",
   "name": "python3"
  },
  "language_info": {
   "codemirror_mode": {
    "name": "ipython",
    "version": 3
   },
   "file_extension": ".py",
   "mimetype": "text/x-python",
   "name": "python",
   "nbconvert_exporter": "python",
   "pygments_lexer": "ipython3",
   "version": "3.11.11"
  }
 },
 "nbformat": 4,
 "nbformat_minor": 5
}
