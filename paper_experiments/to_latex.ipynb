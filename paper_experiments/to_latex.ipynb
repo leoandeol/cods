{
 "cells": [
  {
   "cell_type": "code",
   "execution_count": 13,
   "id": "5716d173",
   "metadata": {},
   "outputs": [],
   "source": [
    "import pandas as pd"
   ]
  },
  {
   "cell_type": "code",
   "execution_count": 14,
   "id": "eb190b25",
   "metadata": {},
   "outputs": [],
   "source": [
    "def df_to_latex(df,output_path, caption=\"\", label=\"\", float_format=\"%.2f\", index=False):\n",
    "    \n",
    "    \n",
    "    # Define the order of columns to match the LaTeX table\n",
    "    cols = [\n",
    "        \"Matching Function\",\n",
    "        \"Confidence Method\",\n",
    "        \"Localization Method\",\n",
    "        \"Classification Prediction Set\",\n",
    "        \"Localization Prediction Set\",\n",
    "        \"Confidence Set Size (Mean)\",\n",
    "        \"Confidence Risk (Mean)\",\n",
    "        \"Localization Set Size (Mean)\",\n",
    "        \"Localization Risk (Mean)\",\n",
    "        \"Classification Set Size (Mean)\",\n",
    "        \"Classification Risk (Mean)\",\n",
    "        \"Global Risk (Mean)\",\n",
    "    ]\n",
    "    df = df[cols]\n",
    "\n",
    "    # Escape underscores in string columns\n",
    "    for col in df.select_dtypes(include=\"object\").columns:\n",
    "        df[col] = df[col].str.replace(\"_\", r\"\\_\", regex=False)\n",
    "\n",
    "    # Format floats with 4 decimals\n",
    "    df = df.round(4)\n",
    "\n",
    "    # Convert rows to LaTeX table body\n",
    "    rows = []\n",
    "    for _, row in df.iterrows():\n",
    "        rows.append(\" & \".join(str(x) for x in row.values) + \" \\\\\\\\\")\n",
    "\n",
    "    table_body = \"\\n\".join(rows)\n",
    "\n",
    "    # Full LaTeX table with headers styled\n",
    "    latex_table = (\n",
    "        r\"\"\"\n",
    "    \\begin{table*}[htbp]\n",
    "    \\centering\n",
    "    \\tiny\n",
    "    \\caption{\"\"\"+caption+r\"\"\"}\n",
    "    \\label{\"\"\"+label+r\"\"\"}\n",
    "    \\begin{tabular}{@{}lllll rrcrrcr@{}}\n",
    "    \\toprule\n",
    "    \\multicolumn{1}{c}{\\multirow{2}{*}{\\shortstack{ Matching\\\\Function}}} & \n",
    "    \\multicolumn{1}{c}{\\multirow{2}{*}{\\shortstack{ Conf.\\\\Loss}}} & \n",
    "    \\multicolumn{1}{c}{\\multirow{2}{*}{\\shortstack{ Loc.\\\\Loss}}} & \n",
    "    \\multicolumn{1}{c}{\\multirow{2}{*}{\\shortstack{ Cls.\\\\Pred.\\\\Set}}} & \n",
    "    \\multicolumn{1}{c}{\\multirow{2}{*}{\\shortstack{ Loc.\\\\Pred.\\\\Set.}}} & \n",
    "    \\multicolumn{2}{c}{Confidence} & \\multicolumn{2}{c}{Localization} & \n",
    "    \\multicolumn{2}{c}{Classification} & \\multicolumn{1}{c}{Global} \\\\\n",
    "    \\cmidrule(lr){6-7} \\cmidrule(lr){8-9} \\cmidrule(lr){10-11} \\cmidrule(lr){12-12}\n",
    "    & & & & & \\multicolumn{1}{c}{Size} & \\multicolumn{1}{c}{Risk} & \n",
    "    \\multicolumn{1}{c}{Size} & \\multicolumn{1}{c}{Risk} & \n",
    "    \\multicolumn{1}{c}{Size} & \\multicolumn{1}{c}{Risk} & \n",
    "    \\multicolumn{1}{c}{Risk} \\\\\n",
    "    \\midrule\n",
    "    \"\"\"\n",
    "        + table_body\n",
    "        + r\"\"\"\n",
    "    \\bottomrule\n",
    "    \\end{tabular}\n",
    "    \\end{table*}\n",
    "    \"\"\"\n",
    "    )\n",
    "\n",
    "    # Save to .tex file\n",
    "    with open(output_path, \"w\") as f:\n",
    "        f.write(latex_table)\n",
    "\n",
    "\n",
    "    # latex_table[:1000]  # show preview of generated LaTeX\n"
   ]
  },
  {
   "cell_type": "code",
   "execution_count": 15,
   "id": "dc1dcf6d",
   "metadata": {},
   "outputs": [
    {
     "name": "stdout",
     "output_type": "stream",
     "text": [
      "Lengths (DETR50): 86+96=182\n",
      "Lengths (YOLO): 92+96=188\n",
      "Lengths (DETR101): 92+96=188\n"
     ]
    }
   ],
   "source": [
    "df_exp1_detr50 = pd.read_csv(\"./output-results-exp1-detr.csv\")\n",
    "df_exp1_detr50_01 = df_exp1_detr50[df_exp1_detr50[\"Global Alpha\"]==0.1]\n",
    "df_exp1_detr50_02 = df_exp1_detr50[df_exp1_detr50[\"Global Alpha\"]==0.2]\n",
    "df_exp2_yolo = pd.read_csv(\"./output-results-exp1-yolo.csv\")\n",
    "df_exp2_yolo_01 = df_exp2_yolo[df_exp2_yolo[\"Global Alpha\"]==0.1]\n",
    "df_exp2_yolo_02 = df_exp2_yolo[df_exp2_yolo[\"Global Alpha\"]==0.2]\n",
    "df_exp3_detr101 = pd.read_csv(\"./output-results-exp3-detr101.csv\")\n",
    "df_exp3_detr101_01 = df_exp3_detr101[df_exp3_detr101[\"Global Alpha\"]==0.1]\n",
    "df_exp3_detr101_02 = df_exp3_detr101[df_exp3_detr101[\"Global Alpha\"]==0.2]\n",
    "\n",
    "# Check lengths\n",
    "print(f\"Lengths (DETR50): {len(df_exp1_detr50_01)}+{len(df_exp1_detr50_02)}={len(df_exp1_detr50)}\")\n",
    "print(f\"Lengths (YOLO): {len(df_exp2_yolo_01)}+{len(df_exp2_yolo_02)}={len(df_exp2_yolo)}\")\n",
    "print(f\"Lengths (DETR101): {len(df_exp3_detr101_01)}+{len(df_exp3_detr101_02)}={len(df_exp3_detr101)}\")"
   ]
  },
  {
   "cell_type": "code",
   "execution_count": 16,
   "id": "265e18d8",
   "metadata": {},
   "outputs": [
    {
     "name": "stderr",
     "output_type": "stream",
     "text": [
      "/var/folders/g7/bnv7sj75399d5qdncpcwkjzh0000gn/T/ipykernel_56991/2126110006.py:23: SettingWithCopyWarning: \n",
      "A value is trying to be set on a copy of a slice from a DataFrame.\n",
      "Try using .loc[row_indexer,col_indexer] = value instead\n",
      "\n",
      "See the caveats in the documentation: https://pandas.pydata.org/pandas-docs/stable/user_guide/indexing.html#returning-a-view-versus-a-copy\n",
      "  df[col] = df[col].str.replace(\"_\", r\"\\_\", regex=False)\n",
      "/var/folders/g7/bnv7sj75399d5qdncpcwkjzh0000gn/T/ipykernel_56991/2126110006.py:23: SettingWithCopyWarning: \n",
      "A value is trying to be set on a copy of a slice from a DataFrame.\n",
      "Try using .loc[row_indexer,col_indexer] = value instead\n",
      "\n",
      "See the caveats in the documentation: https://pandas.pydata.org/pandas-docs/stable/user_guide/indexing.html#returning-a-view-versus-a-copy\n",
      "  df[col] = df[col].str.replace(\"_\", r\"\\_\", regex=False)\n",
      "/var/folders/g7/bnv7sj75399d5qdncpcwkjzh0000gn/T/ipykernel_56991/2126110006.py:23: SettingWithCopyWarning: \n",
      "A value is trying to be set on a copy of a slice from a DataFrame.\n",
      "Try using .loc[row_indexer,col_indexer] = value instead\n",
      "\n",
      "See the caveats in the documentation: https://pandas.pydata.org/pandas-docs/stable/user_guide/indexing.html#returning-a-view-versus-a-copy\n",
      "  df[col] = df[col].str.replace(\"_\", r\"\\_\", regex=False)\n",
      "/var/folders/g7/bnv7sj75399d5qdncpcwkjzh0000gn/T/ipykernel_56991/2126110006.py:23: SettingWithCopyWarning: \n",
      "A value is trying to be set on a copy of a slice from a DataFrame.\n",
      "Try using .loc[row_indexer,col_indexer] = value instead\n",
      "\n",
      "See the caveats in the documentation: https://pandas.pydata.org/pandas-docs/stable/user_guide/indexing.html#returning-a-view-versus-a-copy\n",
      "  df[col] = df[col].str.replace(\"_\", r\"\\_\", regex=False)\n",
      "/var/folders/g7/bnv7sj75399d5qdncpcwkjzh0000gn/T/ipykernel_56991/2126110006.py:23: SettingWithCopyWarning: \n",
      "A value is trying to be set on a copy of a slice from a DataFrame.\n",
      "Try using .loc[row_indexer,col_indexer] = value instead\n",
      "\n",
      "See the caveats in the documentation: https://pandas.pydata.org/pandas-docs/stable/user_guide/indexing.html#returning-a-view-versus-a-copy\n",
      "  df[col] = df[col].str.replace(\"_\", r\"\\_\", regex=False)\n",
      "/var/folders/g7/bnv7sj75399d5qdncpcwkjzh0000gn/T/ipykernel_56991/2126110006.py:23: SettingWithCopyWarning: \n",
      "A value is trying to be set on a copy of a slice from a DataFrame.\n",
      "Try using .loc[row_indexer,col_indexer] = value instead\n",
      "\n",
      "See the caveats in the documentation: https://pandas.pydata.org/pandas-docs/stable/user_guide/indexing.html#returning-a-view-versus-a-copy\n",
      "  df[col] = df[col].str.replace(\"_\", r\"\\_\", regex=False)\n"
     ]
    }
   ],
   "source": [
    "df_to_latex(df_exp1_detr50_01, \"./table_detr50_alpha_01.tex\", caption=\"Experimental Results using the DETR model for $\\\\alphatot=0.1$\", label=\"tab:detr50_results_alpha_01_styled\")\n",
    "df_to_latex(df_exp1_detr50_02, \"./table_detr50_alpha_02.tex\", caption=\"Experimental Results using the DETR model for $\\\\alphatot=0.2$\", label=\"tab:detr50_results_alpha_02_styled\")\n",
    "df_to_latex(df_exp2_yolo_01, \"./table_yolo_alpha_01.tex\", caption=\"Experimental Results using the YOLOv5 model for $\\\\alphatot=0.1$\", label=\"tab:yolo_results_alpha_01_styled\")\n",
    "df_to_latex(df_exp2_yolo_02, \"./table_yolo_alpha_02.tex\", caption=\"Experimental Results using the YOLOv5 model for $\\\\alphatot=0.2$\", label=\"tab:yolo_results_alpha_02_styled\")\n",
    "df_to_latex(df_exp3_detr101_01, \"./table_detr101_alpha_01.tex\", caption=\"Experimental Results using the DETR-101 model for $\\\\alphatot=0.1$\", label=\"tab:detr101_results_alpha_01_styled\")\n",
    "df_to_latex(df_exp3_detr101_02, \"./table_detr101_alpha_02.tex\", caption=\"Experimental Results using the DETR-101 model for $\\\\alphatot=0.2$\", label=\"tab:detr101_results_alpha_02_styled\")"
   ]
  },
  {
   "cell_type": "code",
   "execution_count": null,
   "id": "35372e24",
   "metadata": {},
   "outputs": [],
   "source": []
  }
 ],
 "metadata": {
  "kernelspec": {
   "display_name": ".venv",
   "language": "python",
   "name": "python3"
  },
  "language_info": {
   "codemirror_mode": {
    "name": "ipython",
    "version": 3
   },
   "file_extension": ".py",
   "mimetype": "text/x-python",
   "name": "python",
   "nbconvert_exporter": "python",
   "pygments_lexer": "ipython3",
   "version": "3.13.7"
  }
 },
 "nbformat": 4,
 "nbformat_minor": 5
}
