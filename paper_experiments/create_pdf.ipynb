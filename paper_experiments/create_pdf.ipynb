{
 "cells": [
  {
   "cell_type": "code",
   "execution_count": null,
   "id": "33ab87f2",
   "metadata": {},
   "outputs": [],
   "source": [
    "from cods.od.cp import ODConformalizer\n",
    "from cods.od.data import MSCOCODataset\n",
    "from cods.od.models import DETRModel\n",
    "from cods.od.visualization import plot_preds, create_pdf_with_plots\n",
    "\n",
    "\n",
    "COCO_PATH = \"/datasets/shared_datasets/coco/\"\n",
    "data = MSCOCODataset(root=COCO_PATH, split=\"val\")\n",
    "calibration_ratio = 0.5\n",
    "data_cal, data_val = data.split_dataset(calibration_ratio, shuffle=False)\n",
    "\n",
    "model = DETRModel(model_name=\"detr_resnet50\", pretrained=True, device=\"cpu\")\n",
    "\n",
    "preds_cal = model.build_predictions(\n",
    "    data_cal,\n",
    "    dataset_name=\"mscoco\",\n",
    "    split_name=\"cal\",\n",
    "    batch_size=12,\n",
    "    collate_fn=data._collate_fn,  # TODO: make this a default for COCO\n",
    "    shuffle=False,\n",
    "    force_recompute=False,  # False,\n",
    "    deletion_method=\"nms\",\n",
    "    filter_preds_by_confidence=1e-3,\n",
    ")\n",
    "preds_val = model.build_predictions(\n",
    "    data_val,\n",
    "    dataset_name=\"mscoco\",\n",
    "    split_name=\"test\",\n",
    "    batch_size=12,\n",
    "    collate_fn=data._collate_fn,\n",
    "    shuffle=False,\n",
    "    force_recompute=False,  # False,\n",
    "    deletion_method=\"nms\",\n",
    "    filter_preds_by_confidence=1e-3,\n",
    ")\n",
    "\n",
    "conf = ODConformalizer(\n",
    "    guarantee_level=\"image\",\n",
    "    matching_function=row2[\"Matching Function\"],\n",
    "    multiple_testing_correction=None,\n",
    "    confidence_method=row2[\"Confidence Method\"],\n",
    "    localization_method=row2[\"Localization Method\"],\n",
    "    localization_prediction_set=row2[\"Localization Prediction Set\"],\n",
    "    classification_method=\"binary\",\n",
    "    classification_prediction_set=row2[\"Classification Prediction Set\"],\n",
    "    backend=\"auto\",\n",
    "    optimizer=\"binary_search\",\n",
    ")\n",
    "\n",
    "parameters = conf.calibrate(\n",
    "    preds_cal,\n",
    "    alpha_confidence=row2[\"Confidence Alpha\"],\n",
    "    alpha_localization=row2[\"Localization Alpha\"],\n",
    "    alpha_classification=row2[\"Classification Alpha\"],\n",
    ")\n",
    "\n",
    "conformal_preds = conf.conformalize(preds_val, parameters=parameters)\n",
    "\n",
    "results_val = conf.evaluate(\n",
    "    preds_val,\n",
    "    parameters=parameters,\n",
    "    conformalized_predictions=conformal_preds,\n",
    "    include_confidence_in_global=False,\n",
    ")"
   ]
  },
  {
   "cell_type": "code",
   "execution_count": null,
   "id": "ea37acf3",
   "metadata": {},
   "outputs": [
    {
     "data": {
      "text/plain": [
       "tensor(1.0915)"
      ]
     },
     "metadata": {},
     "output_type": "display_data"
    }
   ],
   "source": [
    "results_val.localization_set_sizes.mean()"
   ]
  },
  {
   "cell_type": "code",
   "execution_count": null,
   "id": "6bf95996",
   "metadata": {},
   "outputs": [
    {
     "data": {
      "text/plain": [
       "tensor(0.1020)"
      ]
     },
     "metadata": {},
     "output_type": "display_data"
    }
   ],
   "source": [
    "results_val.localization_coverages.mean()"
   ]
  },
  {
   "cell_type": "code",
   "execution_count": null,
   "id": "8eca26ae",
   "metadata": {},
   "outputs": [],
   "source": [
    "create_pdf_with_plots(\n",
    "    preds_val,\n",
    "    conformal_preds,\n",
    "    output_pdf=\"visualizations.pdf\",\n",
    "    idx_to_label=data.NAMES,\n",
    ")"
   ]
  },
  {
   "cell_type": "code",
   "execution_count": null,
   "id": "bfe2950b",
   "metadata": {},
   "outputs": [],
   "source": []
  },
  {
   "cell_type": "code",
   "execution_count": null,
   "id": "addd2c19",
   "metadata": {},
   "outputs": [],
   "source": []
  }
 ],
 "metadata": {
  "language_info": {
   "name": "python"
  }
 },
 "nbformat": 4,
 "nbformat_minor": 5
}
