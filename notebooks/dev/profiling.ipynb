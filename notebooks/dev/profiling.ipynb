{
 "cells": [
  {
   "cell_type": "code",
   "execution_count": 3,
   "metadata": {},
   "outputs": [],
   "source": [
    "%load_ext autoreload\n",
    "%load_ext line_profiler\n",
    "%autoreload 2\n"
   ]
  },
  {
   "cell_type": "code",
   "execution_count": 4,
   "metadata": {},
   "outputs": [
    {
     "name": "stderr",
     "output_type": "stream",
     "text": [
      "Using cache found in /home/leo.andeol/.cache/torch/hub/facebookresearch_detr_main\n",
      "/home/leo.andeol/envs/cods_13/cods/.venv/lib/python3.11/site-packages/torchvision/models/_utils.py:208: UserWarning: The parameter 'pretrained' is deprecated since 0.13 and may be removed in the future, please use 'weights' instead.\n",
      "  warnings.warn(\n",
      "/home/leo.andeol/envs/cods_13/cods/.venv/lib/python3.11/site-packages/torchvision/models/_utils.py:223: UserWarning: Arguments other than a weight enum or `None` for 'weights' are deprecated since 0.13 and may be removed in the future. The current behavior is equivalent to passing `weights=ResNet50_Weights.IMAGENET1K_V1`. You can also use `weights=ResNet50_Weights.DEFAULT` to get the most up-to-date weights.\n",
      "  warnings.warn(msg)\n"
     ]
    },
    {
     "name": "stdout",
     "output_type": "stream",
     "text": [
      "len(data) = 5000\n",
      "len(data_cal) = 400\n",
      "len(data_val) = 400\n"
     ]
    }
   ],
   "source": [
    "from cods.od.data import MSCOCODataset\n",
    "from cods.od.models import YOLOModel, DETRModel\n",
    "import logging\n",
    "import os\n",
    "\n",
    "os.environ[\"CUDA_DEVICE_ORDER\"] = \"PCI_BUS_ID\"  # see issue #152\n",
    "os.environ[\"CUDA_VISIBLE_DEVICES\"] = (\n",
    "    \"1\"  # chose the GPU. If only one, then \"0\"\n",
    ")\n",
    "\n",
    "logging.getLogger().setLevel(logging.INFO)\n",
    "\n",
    "# set [COCO_PATH] to the directory to your local copy of the COCO dataset\n",
    "COCO_PATH = \"/datasets/shared_datasets/coco/\"\n",
    "\n",
    "data = MSCOCODataset(root=COCO_PATH, split=\"val\")\n",
    "\n",
    "calibration_ratio = (\n",
    "    0.5  # set 0.5 to use 50% for calibration and 50% for testing\n",
    ")\n",
    "\n",
    "use_smaller_subset = True  # TODO: Temp\n",
    "\n",
    "if use_smaller_subset:\n",
    "    data_cal, data_val = data.split_dataset(\n",
    "        calibration_ratio, shuffle=False, n_calib_test=800\n",
    "    )\n",
    "else:\n",
    "    data_cal, data_val = data.split_dataset(calibration_ratio, shuffle=False)\n",
    "\n",
    "# model and weights are downloaded from https://github.com/facebookresearch/detr\n",
    "model = DETRModel(model_name=\"detr_resnet50\", pretrained=True, device=\"cuda:0\")\n",
    "#model = YOLOModel(model_name=\"yolov8x.pt\", pretrained=True, device=\"cpu\")\n",
    "\n",
    "\n",
    "print(f\"{len(data) = }\")\n",
    "print(f\"{len(data_cal) = }\")\n",
    "print(f\"{len(data_val) = }\")"
   ]
  },
  {
   "cell_type": "code",
   "execution_count": 5,
   "metadata": {},
   "outputs": [
    {
     "name": "stdout",
     "output_type": "stream",
     "text": [
      "Predictions already exist, loading them...\n",
      "Predictions already exist, loading them...\n"
     ]
    }
   ],
   "source": [
    "preds_cal = model.build_predictions(\n",
    "    data_cal,\n",
    "    dataset_name=\"mscoco\",\n",
    "    split_name=\"cal\",\n",
    "    batch_size=12,\n",
    "    collate_fn=data._collate_fn,  # TODO: make this a default for COCO\n",
    "    shuffle=False,\n",
    "    force_recompute=False,  # False,\n",
    "    deletion_method=\"nms\",\n",
    ")\n",
    "preds_val = model.build_predictions(\n",
    "    data_val,\n",
    "    dataset_name=\"mscoco\",\n",
    "    split_name=\"test\",\n",
    "    batch_size=12,\n",
    "    collate_fn=data._collate_fn,\n",
    "    shuffle=False,\n",
    "    force_recompute=False,  # False,\n",
    "    deletion_method=\"nms\",\n",
    ")\n",
    "\n",
    "# Filter the preds_cal and preds_val with confidence below 0.001\n",
    "\n",
    "\n",
    "def filter_preds(preds, confidence_threshold=0.001):\n",
    "    filters = [\n",
    "        conf > confidence_threshold\n",
    "        if (conf > confidence_threshold).any()\n",
    "        else conf.argmin(0)[None]\n",
    "        for conf in preds.confidences\n",
    "    ]\n",
    "    preds.pred_boxes = [pbs[f] for pbs, f in zip(preds.pred_boxes, filters)]\n",
    "    preds.pred_cls = [pcs[f] for pcs, f in zip(preds.pred_cls, filters)]\n",
    "    preds.confidences = [\n",
    "        conf[f] for conf, f in zip(preds.confidences, filters)\n",
    "    ]\n",
    "    return preds\n",
    "\n",
    "\n",
    "preds_cal = filter_preds(preds_cal)\n",
    "preds_val = filter_preds(preds_val)"
   ]
  },
  {
   "cell_type": "code",
   "execution_count": 6,
   "metadata": {},
   "outputs": [],
   "source": [
    "from cods.od.utils import match_predictions_to_true_boxes"
   ]
  },
  {
   "cell_type": "markdown",
   "metadata": {},
   "source": [
    "# Avant\n",
    "1.05 s ± 56.7 ms per loop (mean ± std. dev. of 7 runs, 1 loop each)"
   ]
  },
  {
   "cell_type": "code",
   "execution_count": 75,
   "metadata": {},
   "outputs": [
    {
     "name": "stdout",
     "output_type": "stream",
     "text": [
      "Matching = [[70], [10], [0], [70], [10], [10], [6], [66], [10], [70], [2], [30], [10], [70], [10], [10], [70], [10], [7]], len=19\n",
      "Matching = [[12], [22], [12], [16], [24], [16], [12], [24], [16], [16], [16], [12], [16], [12]], len=14\n",
      "Matching = [[0], [2], [1], [3], [2], [44], [6]], len=7\n"
     ]
    }
   ],
   "source": [
    "matching = match_predictions_to_true_boxes(preds_cal,\"hausdorff\", class_factor=None)\n",
    "for i in range(3):  \n",
    "    print(f\"Matching = {matching[i]}, len={len(matching[i])}\")"
   ]
  },
  {
   "cell_type": "code",
   "execution_count": 70,
   "metadata": {},
   "outputs": [
    {
     "name": "stdout",
     "output_type": "stream",
     "text": [
      "4.41 s ± 24 ms per loop (mean ± std. dev. of 7 runs, 1 loop each)\n"
     ]
    }
   ],
   "source": [
    "%%timeit \n",
    "match_predictions_to_true_boxes(preds_cal,\"hausdorff\", class_factor=None)"
   ]
  },
  {
   "cell_type": "code",
   "execution_count": 74,
   "metadata": {},
   "outputs": [
    {
     "name": "stdout",
     "output_type": "stream",
     "text": [
      "Timer unit: 1e-09 s\n",
      "\n",
      "Total time: 5.07102 s\n",
      "File: /home/leo.andeol/envs/cods_13/cods/cods/od/utils.py\n",
      "Function: match_predictions_to_true_boxes at line 189\n",
      "\n",
      "Line #      Hits         Time  Per Hit   % Time  Line Contents\n",
      "==============================================================\n",
      "   189                                           def match_predictions_to_true_boxes(\n",
      "   190                                               preds,\n",
      "   191                                               distance_function,\n",
      "   192                                               overload_confidence_threshold=None,\n",
      "   193                                               verbose=False,\n",
      "   194                                               hungarian=False,\n",
      "   195                                               idx=None,\n",
      "   196                                               class_factor: float = 5,\n",
      "   197                                           ) -> None:\n",
      "   198                                               \"\"\"Matching predictions to true boxes. Done in place, modifies the preds object.\"\"\"\n",
      "   199                                               # TODO(leo): switch to gpu\n",
      "   200         1       1243.0   1243.0      0.0      dist_iou = lambda x, y: -f_iou(x, y)\n",
      "   201         1        371.0    371.0      0.0      dist_generalized_iou = lambda x, y: -generalized_iou(x, y)\n",
      "   202         1        872.0    872.0      0.0      DISTANCE_FUNCTIONS = {\n",
      "   203         1        291.0    291.0      0.0          \"iou\": dist_iou,\n",
      "   204         1        181.0    181.0      0.0          \"giou\": dist_generalized_iou,\n",
      "   205         1        481.0    481.0      0.0          \"hausdorff\": assymetric_hausdorff_distance_old,\n",
      "   206         1        221.0    221.0      0.0          \"lac\": None,\n",
      "   207                                               }\n",
      "   208                                           \n",
      "   209         1        350.0    350.0      0.0      if verbose and distance_function is None:\n",
      "   210                                                   print(\"Using default:  asymmetric Hausdorff distance\")\n",
      "   211                                           \n",
      "   212         1       1863.0   1863.0      0.0      if distance_function not in DISTANCE_FUNCTIONS.keys():\n",
      "   213                                                   raise ValueError(\n",
      "   214                                                       f\"Distance function {distance_function} not supported, must be one of {DISTANCE_FUNCTIONS.keys()}\",\n",
      "   215                                                   )\n",
      "   216                                           \n",
      "   217         1        531.0    531.0      0.0      f_dist = DISTANCE_FUNCTIONS[distance_function]\n",
      "   218                                           \n",
      "   219         1        350.0    350.0      0.0      all_matching = []\n",
      "   220         1        341.0    341.0      0.0      if overload_confidence_threshold is not None:\n",
      "   221                                                   conf_thr = overload_confidence_threshold\n",
      "   222         1       1492.0   1492.0      0.0      elif preds.confidence_threshold is not None:\n",
      "   223                                                   conf_thr = preds.confidence_threshold\n",
      "   224                                               else:\n",
      "   225         1        340.0    340.0      0.0          conf_thr = 0\n",
      "   226                                           \n",
      "   227         1       3426.0   3426.0      0.0      if not isinstance(conf_thr, torch.Tensor):\n",
      "   228         1      73809.0  73809.0      0.0          conf_thr = torch.tensor(conf_thr)\n",
      "   229                                           \n",
      "   230         1       3507.0   3507.0      0.0      device = preds.pred_boxes[0].device\n",
      "   231                                           \n",
      "   232                                               # To only update it on a single image\n",
      "   233         1        431.0    431.0      0.0      if idx is not None:\n",
      "   234                                                   # filter pred_boxes with low objectness\n",
      "   235                                                   pred_boxess = [\n",
      "   236                                                       preds.pred_boxes[idx][preds.confidences[idx] >= conf_thr]\n",
      "   237                                                   ]\n",
      "   238                                                   true_boxess = [preds.true_boxes[idx]]\n",
      "   239                                           \n",
      "   240                                                   preds_clss = [\n",
      "   241                                                       preds.pred_cls[idx][preds.confidences[idx] >= conf_thr]\n",
      "   242                                                   ]\n",
      "   243                                           \n",
      "   244                                                   true_clss = [preds.true_cls[idx]]\n",
      "   245                                           \n",
      "   246                                               else:\n",
      "   247         2   33887443.0    2e+07      0.7          pred_boxess = [\n",
      "   248                                                       x[y >= conf_thr]\n",
      "   249         1       2665.0   2665.0      0.0              for x, y in zip(preds.pred_boxes, preds.confidences)\n",
      "   250                                                   ]  \n",
      "   251         2      50675.0  25337.5      0.0          true_boxess = [\n",
      "   252         1        581.0    581.0      0.0              true_boxes_i for true_boxes_i in preds.true_boxes\n",
      "   253                                                   ]\n",
      "   254                                           \n",
      "   255         2   19332878.0    1e+07      0.4          preds_clss = [\n",
      "   256                                                       x[y >= conf_thr]\n",
      "   257         1       1383.0   1383.0      0.0              for x, y in zip(preds.pred_cls, preds.confidences)\n",
      "   258                                                   ]\n",
      "   259                                           \n",
      "   260         1      20458.0  20458.0      0.0          true_clss = [true_cls_i for true_cls_i in preds.true_cls]\n",
      "   261                                           \n",
      "   262         1        240.0    240.0      0.0      if hungarian:\n",
      "   263                                                   for pred_boxes, true_boxes in tqdm(\n",
      "   264                                                       zip(pred_boxess, true_boxess),\n",
      "   265                                                       disable=not verbose,\n",
      "   266                                                   ):\n",
      "   267                                                       if len(pred_boxes) == 0:\n",
      "   268                                                           matching = [[]] * len(true_boxes)\n",
      "   269                                                           all_matching.append(matching)\n",
      "   270                                                           # print(len(matching), len(true_boxes), matching)\n",
      "   271                                                           continue\n",
      "   272                                                       elif len(true_boxes) == 0:\n",
      "   273                                                           matching = []\n",
      "   274                                                           all_matching.append(matching)\n",
      "   275                                                           # print(len(matching), len(true_boxes), matching)\n",
      "   276                                                           continue\n",
      "   277                                                       else:\n",
      "   278                                                           image_distances = []\n",
      "   279                                                           for i, true_box in enumerate(true_boxes):\n",
      "   280                                                               box_distances = []\n",
      "   281                                           \n",
      "   282                                                               for j, pred_box in enumerate(pred_boxes):\n",
      "   283                                                                   dist = f_dist(true_box, pred_box)\n",
      "   284                                                                   dist = (\n",
      "   285                                                                       dist.cpu().numpy()\n",
      "   286                                                                       if isinstance(dist, torch.Tensor)\n",
      "   287                                                                       else dist\n",
      "   288                                                                   )\n",
      "   289                                                                   box_distances.append(dist)\n",
      "   290                                           \n",
      "   291                                                               # TODO: replace this by possible a set of matches\n",
      "   292                                                               # TODO: must always be an array\n",
      "   293                                                               image_distances.append(\n",
      "   294                                                                   np.array(box_distances).astype(float)\n",
      "   295                                                               )  # np.argmax(ious))\n",
      "   296                                                               # print(matching[-1])\n",
      "   297                                           \n",
      "   298                                                           image_distances = np.array(image_distances)\n",
      "   299                                                           row_ind, col_ind = linear_sum_assignment(image_distances)\n",
      "   300                                                           matching = [[]] * len(true_boxes)\n",
      "   301                                                           # print(len)\n",
      "   302                                                           for x, y in zip(row_ind, col_ind):\n",
      "   303                                                               if x < len(true_boxes) and y < len(pred_boxes):\n",
      "   304                                                                   matching[x] = [y]\n",
      "   305                                                           # matching = list([[x] for x in col_ind])\n",
      "   306                                                           # assert len(matching) == len(\n",
      "   307                                                           #     true_boxes\n",
      "   308                                                           # ), f\"{len(matching)}, {len(true_boxes)}, {matching}, {col_ind}\"\n",
      "   309                                                           all_matching.append(matching)\n",
      "   310                                           \n",
      "   311                                               else:\n",
      "   312       402     365250.0    908.6      0.0          for pred_boxes, true_boxes, pred_cls, true_cls in tqdm(\n",
      "   313         1        962.0    962.0      0.0              zip(pred_boxess, true_boxess, preds_clss, true_clss),\n",
      "   314         1        171.0    171.0      0.0              disable=not verbose,\n",
      "   315                                                   ):\n",
      "   316       400    1219990.0   3050.0      0.0              if len(true_boxes) == 0:\n",
      "   317         4        720.0    180.0      0.0                  matching = []\n",
      "   318       396     387596.0    978.8      0.0              elif len(pred_boxes) == 0:\n",
      "   319                                                           matching = [[]] * len(true_boxes)\n",
      "   320                                                       else:\n",
      "   321                                                           # Assumption: pred_boxes and true_boxes are torch tensors of dimensions [n, 4] and [m,4]\n",
      "   322                                                           # where n is the number of predicted boxes and m is the number of true boxes\n",
      "   323                                                           # up_distance = pred_box[1] - true_box[1]\n",
      "   324                                                           # down_distance = true_box[3] - pred_box[3]\n",
      "   325                                                           # left_distance = pred_box[0] - true_box[0]\n",
      "   326                                                           # right_distance = true_box[2] - pred_box[2]\n",
      "   327                                                           \n",
      "   328                                                           # true_boxes = true_boxes.clone()\n",
      "   329                                                           # pred_boxes = pred_boxes.clone()\n",
      "   330                                                           # distance_matrix = assymetric_hausdorff_distance(true_boxes, pred_boxes)\n",
      "   331                                                           # matching = torch.argmin(distance_matrix, dim=1).cpu().numpy().reshape(-1, 1).tolist()\n",
      "   332                                                           \n",
      "   333                                           \n",
      "   334                                                           #OLD, PROBABLY SLOWER\n",
      "   335       396    6300855.0  15911.2      0.1                  true_boxes = true_boxes.cpu().numpy()\n",
      "   336       396    4150258.0  10480.4      0.1                  pred_boxes = pred_boxes.cpu().numpy()\n",
      "   337       396      81182.0    205.0      0.0                  matching = []\n",
      "   338      3151    1586812.0    503.6      0.0                  for i, true_box in enumerate(true_boxes):\n",
      "   339      2755   10521627.0   3819.1      0.2                      cls = true_cls[i]\n",
      "   340      2755    1417991.0    514.7      0.0                      distances = []\n",
      "   341    144056   68263991.0    473.9      1.3                      for j, pred_box in enumerate(pred_boxes):\n",
      "   342    141301 3511766356.0  24853.1     69.3                          score_true = pred_cls[j][cls].cpu().numpy()\n",
      "   343    141301   28344905.0    200.6      0.6                          if distance_function == \"lac\":\n",
      "   344                                                                       dist = 1-score_true\n",
      "   345                                                                   else:\n",
      "   346    141301 1175051641.0   8315.9     23.2                              dist = f_dist(true_box, pred_box)\n",
      "   347    141301   13629562.0     96.5      0.3                          dist = (\n",
      "   348    141301   14000530.0     99.1      0.3                              dist.cpu().numpy()\n",
      "   349    141301   82262358.0    582.2      1.6                              if isinstance(dist, torch.Tensor)\n",
      "   350    141301   14427926.0    102.1      0.3                              else dist\n",
      "   351                                                                   )\n",
      "   352    141301   20530999.0    145.3      0.4                          if class_factor is not None:\n",
      "   353                                                                       c = class_factor  # 2 #TODO clarify this\n",
      "   354                                                                       dist = dist * (\n",
      "   355                                                                           1 + c * (1 - score_true)\n",
      "   356                                                                       )  # to rethink the factor\n",
      "   357    141301   40472602.0    286.4      0.8                          distances.append(dist)  \n",
      "   358      2755   22365962.0   8118.3      0.4                      matching.append([np.argmin(distances)])  \n",
      "   359       400     178403.0    446.0      0.0              assert len(matching) == len(true_boxes)\n",
      "   360       400      84374.0    210.9      0.0              all_matching.append(matching)\n",
      "   361                                           \n",
      "   362         1        211.0    211.0      0.0      if idx is not None:\n",
      "   363                                                   return all_matching[0]\n",
      "   364                                               else:\n",
      "   365         1     221227.0 221227.0      0.0          preds.matching = all_matching\n",
      "   366         1        131.0    131.0      0.0          return all_matching"
     ]
    }
   ],
   "source": [
    "%lprun -f match_predictions_to_true_boxes match_predictions_to_true_boxes(preds_cal,\"hausdorff\", class_factor=None)"
   ]
  },
  {
   "cell_type": "markdown",
   "metadata": {},
   "source": [
    "# Après"
   ]
  },
  {
   "cell_type": "code",
   "execution_count": 78,
   "metadata": {},
   "outputs": [
    {
     "name": "stdout",
     "output_type": "stream",
     "text": [
      "Matching = [[70], [10], [0], [70], [10], [10], [6], [66], [10], [70], [2], [30], [10], [70], [10], [10], [70], [10], [7]], len=19\n",
      "Matching = [[12], [22], [12], [16], [24], [16], [12], [24], [16], [16], [16], [12], [16], [12]], len=14\n",
      "Matching = [[0], [2], [1], [3], [2], [44], [6]], len=7\n"
     ]
    }
   ],
   "source": [
    "matching = match_predictions_to_true_boxes(preds_cal,\"hausdorff\")\n",
    "for i in range(3):  \n",
    "    print(f\"Matching = {matching[i]}, len={len(matching[i])}\")"
   ]
  },
  {
   "cell_type": "code",
   "execution_count": 79,
   "metadata": {},
   "outputs": [
    {
     "name": "stdout",
     "output_type": "stream",
     "text": [
      "69.8 ms ± 65 μs per loop (mean ± std. dev. of 7 runs, 10 loops each)\n"
     ]
    }
   ],
   "source": [
    "%%timeit \n",
    "match_predictions_to_true_boxes(preds_cal,\"hausdorff\")"
   ]
  },
  {
   "cell_type": "code",
   "execution_count": 80,
   "metadata": {},
   "outputs": [
    {
     "name": "stdout",
     "output_type": "stream",
     "text": [
      "Timer unit: 1e-09 s\n",
      "\n",
      "Total time: 0.0742312 s\n",
      "File: /home/leo.andeol/envs/cods_13/cods/cods/od/utils.py\n",
      "Function: match_predictions_to_true_boxes at line 189\n",
      "\n",
      "Line #      Hits         Time  Per Hit   % Time  Line Contents\n",
      "==============================================================\n",
      "   189                                           def match_predictions_to_true_boxes(\n",
      "   190                                               preds,\n",
      "   191                                               distance_function,\n",
      "   192                                               overload_confidence_threshold=None,\n",
      "   193                                               verbose=False,\n",
      "   194                                               hungarian=False,\n",
      "   195                                               idx=None,\n",
      "   196                                               class_factor: float = 5,\n",
      "   197                                           ) -> None:\n",
      "   198                                               \"\"\"Matching predictions to true boxes. Done in place, modifies the preds object.\"\"\"\n",
      "   199                                               # TODO(leo): switch to gpu\n",
      "   200         1        581.0    581.0      0.0      dist_iou = lambda x, y: -f_iou(x, y)\n",
      "   201         1        171.0    171.0      0.0      dist_generalized_iou = lambda x, y: -generalized_iou(x, y)\n",
      "   202         1        331.0    331.0      0.0      DISTANCE_FUNCTIONS = {\n",
      "   203         1        110.0    110.0      0.0          \"iou\": dist_iou,\n",
      "   204         1         70.0     70.0      0.0          \"giou\": dist_generalized_iou,\n",
      "   205         1        160.0    160.0      0.0          \"hausdorff\": assymetric_hausdorff_distance_old,\n",
      "   206         1         90.0     90.0      0.0          \"lac\": None,\n",
      "   207                                               }\n",
      "   208                                           \n",
      "   209         1        120.0    120.0      0.0      if verbose and distance_function is None:\n",
      "   210                                                   print(\"Using default:  asymmetric Hausdorff distance\")\n",
      "   211                                           \n",
      "   212         1        732.0    732.0      0.0      if distance_function not in DISTANCE_FUNCTIONS.keys():\n",
      "   213                                                   raise ValueError(\n",
      "   214                                                       f\"Distance function {distance_function} not supported, must be one of {DISTANCE_FUNCTIONS.keys()}\",\n",
      "   215                                                   )\n",
      "   216                                           \n",
      "   217         1        190.0    190.0      0.0      f_dist = DISTANCE_FUNCTIONS[distance_function]\n",
      "   218                                           \n",
      "   219         1        130.0    130.0      0.0      all_matching = []\n",
      "   220         1        100.0    100.0      0.0      if overload_confidence_threshold is not None:\n",
      "   221                                                   conf_thr = overload_confidence_threshold\n",
      "   222         1        291.0    291.0      0.0      elif preds.confidence_threshold is not None:\n",
      "   223                                                   conf_thr = preds.confidence_threshold\n",
      "   224                                               else:\n",
      "   225         1        161.0    161.0      0.0          conf_thr = 0\n",
      "   226                                           \n",
      "   227         1        952.0    952.0      0.0      if not isinstance(conf_thr, torch.Tensor):\n",
      "   228         1      15519.0  15519.0      0.0          conf_thr = torch.tensor(conf_thr)\n",
      "   229                                           \n",
      "   230         1        822.0    822.0      0.0      device = preds.pred_boxes[0].device\n",
      "   231                                           \n",
      "   232                                               # To only update it on a single image\n",
      "   233         1        130.0    130.0      0.0      if idx is not None:\n",
      "   234                                                   # filter pred_boxes with low objectness\n",
      "   235                                                   pred_boxess = [\n",
      "   236                                                       preds.pred_boxes[idx][preds.confidences[idx] >= conf_thr]\n",
      "   237                                                   ]\n",
      "   238                                                   true_boxess = [preds.true_boxes[idx]]\n",
      "   239                                           \n",
      "   240                                                   preds_clss = [\n",
      "   241                                                       preds.pred_cls[idx][preds.confidences[idx] >= conf_thr]\n",
      "   242                                                   ]\n",
      "   243                                           \n",
      "   244                                                   true_clss = [preds.true_cls[idx]]\n",
      "   245                                           \n",
      "   246                                               else:\n",
      "   247         2   15299968.0    8e+06     20.6          pred_boxess = [\n",
      "   248                                                       x[y >= conf_thr]\n",
      "   249         1       1272.0   1272.0      0.0              for x, y in zip(preds.pred_boxes, preds.confidences)\n",
      "   250                                                   ]  \n",
      "   251         2      32561.0  16280.5      0.0          true_boxess = [\n",
      "   252         1        310.0    310.0      0.0              true_boxes_i for true_boxes_i in preds.true_boxes\n",
      "   253                                                   ]\n",
      "   254                                           \n",
      "   255         2   15040801.0    8e+06     20.3          preds_clss = [\n",
      "   256                                                       x[y >= conf_thr]\n",
      "   257         1        761.0    761.0      0.0              for x, y in zip(preds.pred_cls, preds.confidences)\n",
      "   258                                                   ]\n",
      "   259                                           \n",
      "   260         1      19006.0  19006.0      0.0          true_clss = [true_cls_i for true_cls_i in preds.true_cls]\n",
      "   261                                           \n",
      "   262         1        370.0    370.0      0.0      if hungarian:\n",
      "   263                                                   for pred_boxes, true_boxes in tqdm(\n",
      "   264                                                       zip(pred_boxess, true_boxess),\n",
      "   265                                                       disable=not verbose,\n",
      "   266                                                   ):\n",
      "   267                                                       if len(pred_boxes) == 0:\n",
      "   268                                                           matching = [[]] * len(true_boxes)\n",
      "   269                                                           all_matching.append(matching)\n",
      "   270                                                           # print(len(matching), len(true_boxes), matching)\n",
      "   271                                                           continue\n",
      "   272                                                       elif len(true_boxes) == 0:\n",
      "   273                                                           matching = []\n",
      "   274                                                           all_matching.append(matching)\n",
      "   275                                                           # print(len(matching), len(true_boxes), matching)\n",
      "   276                                                           continue\n",
      "   277                                                       else:\n",
      "   278                                                           image_distances = []\n",
      "   279                                                           for i, true_box in enumerate(true_boxes):\n",
      "   280                                                               box_distances = []\n",
      "   281                                           \n",
      "   282                                                               for j, pred_box in enumerate(pred_boxes):\n",
      "   283                                                                   dist = f_dist(true_box, pred_box)\n",
      "   284                                                                   dist = (\n",
      "   285                                                                       dist.cpu().numpy()\n",
      "   286                                                                       if isinstance(dist, torch.Tensor)\n",
      "   287                                                                       else dist\n",
      "   288                                                                   )\n",
      "   289                                                                   box_distances.append(dist)\n",
      "   290                                           \n",
      "   291                                                               # TODO: replace this by possible a set of matches\n",
      "   292                                                               # TODO: must always be an array\n",
      "   293                                                               image_distances.append(\n",
      "   294                                                                   np.array(box_distances).astype(float)\n",
      "   295                                                               )  # np.argmax(ious))\n",
      "   296                                                               # print(matching[-1])\n",
      "   297                                           \n",
      "   298                                                           image_distances = np.array(image_distances)\n",
      "   299                                                           row_ind, col_ind = linear_sum_assignment(image_distances)\n",
      "   300                                                           matching = [[]] * len(true_boxes)\n",
      "   301                                                           # print(len)\n",
      "   302                                                           for x, y in zip(row_ind, col_ind):\n",
      "   303                                                               if x < len(true_boxes) and y < len(pred_boxes):\n",
      "   304                                                                   matching[x] = [y]\n",
      "   305                                                           # matching = list([[x] for x in col_ind])\n",
      "   306                                                           # assert len(matching) == len(\n",
      "   307                                                           #     true_boxes\n",
      "   308                                                           # ), f\"{len(matching)}, {len(true_boxes)}, {matching}, {col_ind}\"\n",
      "   309                                                           all_matching.append(matching)\n",
      "   310                                           \n",
      "   311                                               else:\n",
      "   312       402     694414.0   1727.4      0.9          for pred_boxes, true_boxes, pred_cls, true_cls in tqdm(\n",
      "   313         1        772.0    772.0      0.0              zip(pred_boxess, true_boxess, preds_clss, true_clss),\n",
      "   314         1        140.0    140.0      0.0              disable=not verbose,\n",
      "   315                                                   ):\n",
      "   316       400     409845.0   1024.6      0.6              if len(true_boxes) == 0:\n",
      "   317         4        771.0    192.8      0.0                  matching = []\n",
      "   318       396     325702.0    822.5      0.4              elif len(pred_boxes) == 0:\n",
      "   319                                                           matching = [[]] * len(true_boxes)\n",
      "   320                                                       else:\n",
      "   321                                                           # Assumption: pred_boxes and true_boxes are torch tensors of dimensions [n, 4] and [m,4]\n",
      "   322                                                           # where n is the number of predicted boxes and m is the number of true boxes\n",
      "   323                                                           # up_distance = pred_box[1] - true_box[1]\n",
      "   324                                                           # down_distance = true_box[3] - pred_box[3]\n",
      "   325                                                           # left_distance = pred_box[0] - true_box[0]\n",
      "   326                                                           # right_distance = true_box[2] - pred_box[2]\n",
      "   327                                                           \n",
      "   328       396    3930302.0   9925.0      5.3                  true_boxes = true_boxes.clone()\n",
      "   329       396    2160746.0   5456.4      2.9                  pred_boxes = pred_boxes.clone()\n",
      "   330       396   24022028.0  60661.7     32.4                  distance_matrix = assymetric_hausdorff_distance(true_boxes, pred_boxes)\n",
      "   331       396   10716239.0  27061.2     14.4                  matching = torch.argmin(distance_matrix, dim=1).cpu().numpy().reshape(-1, 1).tolist()\n",
      "   332                                                           \n",
      "   333                                           \n",
      "   334                                                           #OLD, PROBABLY SLOWER\n",
      "   335                                                           # true_boxes = true_boxes.cpu().numpy()\n",
      "   336                                                           # pred_boxes = pred_boxes.cpu().numpy()\n",
      "   337                                                           # matching = []\n",
      "   338                                                           # for i, true_box in enumerate(true_boxes):\n",
      "   339                                                           #     cls = true_cls[i]\n",
      "   340                                                           #     distances = []\n",
      "   341                                                           #     for j, pred_box in enumerate(pred_boxes):\n",
      "   342                                                           #         score_true = pred_cls[j][cls].cpu().numpy()\n",
      "   343                                                           #         if distance_function == \"lac\":\n",
      "   344                                                           #             dist = 1-score_true\n",
      "   345                                                           #         else:\n",
      "   346                                                           #             dist = f_dist(true_box, pred_box)\n",
      "   347                                                           #         dist = (\n",
      "   348                                                           #             dist.cpu().numpy()\n",
      "   349                                                           #             if isinstance(dist, torch.Tensor)\n",
      "   350                                                           #             else dist\n",
      "   351                                                           #         )\n",
      "   352                                                           #         if class_factor is not None:\n",
      "   353                                                           #             c = class_factor  # 2 #TODO clarify this\n",
      "   354                                                           #             dist = dist * (\n",
      "   355                                                           #                 1 + c * (1 - score_true)\n",
      "   356                                                           #             )  # to rethink the factor\n",
      "   357                                                           #         distances.append(dist)  \n",
      "   358                                                           #     matching.append([np.argmin(distances)])  \n",
      "   359       400    1373854.0   3434.6      1.9              assert len(matching) == len(true_boxes)\n",
      "   360       400     126875.0    317.2      0.2              all_matching.append(matching)\n",
      "   361                                           \n",
      "   362         1        100.0    100.0      0.0      if idx is not None:\n",
      "   363                                                   return all_matching[0]\n",
      "   364                                               else:\n",
      "   365         1      53570.0  53570.0      0.1          preds.matching = all_matching\n",
      "   366         1        120.0    120.0      0.0          return all_matching"
     ]
    }
   ],
   "source": [
    "%lprun -f match_predictions_to_true_boxes match_predictions_to_true_boxes(preds_cal,\"hausdorff\")"
   ]
  },
  {
   "cell_type": "markdown",
   "metadata": {},
   "source": [
    "# Tests"
   ]
  },
  {
   "cell_type": "code",
   "execution_count": 10,
   "metadata": {},
   "outputs": [],
   "source": [
    "import numpy as np \n",
    "import matplotlib.pyplot as plt\n",
    "import torch\n",
    "from cods.od.utils import assymetric_hausdorff_distance, assymetric_hausdorff_distance_old"
   ]
  },
  {
   "cell_type": "code",
   "execution_count": 59,
   "metadata": {},
   "outputs": [],
   "source": [
    "idx = 11"
   ]
  },
  {
   "cell_type": "code",
   "execution_count": 60,
   "metadata": {},
   "outputs": [],
   "source": [
    "tbs = preds_cal.true_boxes[idx].clone()\n",
    "pbs = preds_cal.pred_boxes[idx].clone()"
   ]
  },
  {
   "cell_type": "code",
   "execution_count": 61,
   "metadata": {},
   "outputs": [],
   "source": [
    "matching1 = []\n",
    "distances1 = np.zeros((len(tbs), len(pbs)))\n",
    "true_boxes = tbs\n",
    "pred_boxes = pbs\n",
    "for i, true_box in enumerate(true_boxes):\n",
    "    distances = []\n",
    "    for j, pred_box in enumerate(pred_boxes):\n",
    "        dist = assymetric_hausdorff_distance_old(true_box, pred_box)\n",
    "        dist = (\n",
    "            dist.cpu().numpy()\n",
    "            if isinstance(dist, torch.Tensor)\n",
    "            else dist\n",
    "        )\n",
    "        distances.append(dist)  # .cpu().numpy())\n",
    "        distances1[i, j] = dist\n",
    "    \n",
    "    matching1.append([np.argmin(distances)])  "
   ]
  },
  {
   "cell_type": "code",
   "execution_count": 62,
   "metadata": {},
   "outputs": [],
   "source": [
    "true_boxes = tbs\n",
    "pred_boxes = pbs\n",
    "\n",
    "distances2 = assymetric_hausdorff_distance(true_boxes, pred_boxes)\n",
    "matching2 = torch.argmin(distances2, dim=1).cpu().numpy().reshape(-1, 1).tolist()"
   ]
  },
  {
   "cell_type": "code",
   "execution_count": 63,
   "metadata": {},
   "outputs": [
    {
     "data": {
      "text/plain": [
       "<matplotlib.image.AxesImage at 0x7f6224370590>"
      ]
     },
     "execution_count": 63,
     "metadata": {},
     "output_type": "execute_result"
    },
    {
     "data": {
      "image/png": "[encoded data removed]",
      "text/plain": [
       "<Figure size 640x480 with 1 Axes>"
      ]
     },
     "metadata": {},
     "output_type": "display_data"
    }
   ],
   "source": [
    "plt.imshow(distances1)"
   ]
  },
  {
   "cell_type": "code",
   "execution_count": 64,
   "metadata": {},
   "outputs": [
    {
     "data": {
      "text/plain": [
       "<matplotlib.image.AxesImage at 0x7f6223965250>"
      ]
     },
     "execution_count": 64,
     "metadata": {},
     "output_type": "execute_result"
    },
    {
     "data": {
      "image/png": "[encoded data removed]",
      "text/plain": [
       "<Figure size 640x480 with 1 Axes>"
      ]
     },
     "metadata": {},
     "output_type": "display_data"
    }
   ],
   "source": [
    "plt.imshow(distances2.cpu().numpy())"
   ]
  },
  {
   "cell_type": "code",
   "execution_count": 65,
   "metadata": {},
   "outputs": [
    {
     "name": "stdout",
     "output_type": "stream",
     "text": [
      "[0] [0]\n",
      "[76] [76]\n",
      "[76] [76]\n",
      "[23] [23]\n",
      "[6] [6]\n",
      "[24] [24]\n",
      "[48] [48]\n",
      "[23] [23]\n",
      "[76] [76]\n",
      "[76] [76]\n",
      "[76] [76]\n",
      "[76] [76]\n",
      "[23] [23]\n",
      "[76] [76]\n",
      "[1] [1]\n",
      "[29] [29]\n",
      "[23] [23]\n",
      "[76] [76]\n"
     ]
    }
   ],
   "source": [
    "[print(x,y) for x,y in zip(matching1, matching2)];"
   ]
  },
  {
   "cell_type": "code",
   "execution_count": null,
   "metadata": {},
   "outputs": [],
   "source": []
  }
 ],
 "metadata": {
  "kernelspec": {
   "display_name": ".venv",
   "language": "python",
   "name": "python3"
  },
  "language_info": {
   "codemirror_mode": {
    "name": "ipython",
    "version": 3
   },
   "file_extension": ".py",
   "mimetype": "text/x-python",
   "name": "python",
   "nbconvert_exporter": "python",
   "pygments_lexer": "ipython3",
   "version": "3.11.11"
  }
 },
 "nbformat": 4,
 "nbformat_minor": 2
}
