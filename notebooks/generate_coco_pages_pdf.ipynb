{
 "cells": [
  {
   "cell_type": "code",
   "execution_count": 1,
   "metadata": {},
   "outputs": [],
   "source": [
    "from cods.od.data import MSCOCODataset\n",
    "from cods.od.models import YOLOModel, DETRModel\n",
    "import logging\n",
    "import os\n",
    "\n",
    "os.environ[\"CUDA_DEVICE_ORDER\"] = \"PCI_BUS_ID\"  # see issue #152\n",
    "os.environ[\"CUDA_VISIBLE_DEVICES\"] = (\n",
    "    \"0\"  # chose the GPU. If only one, then \"0\"\n",
    ")\n",
    "\n",
    "logging.getLogger().setLevel(logging.INFO)"
   ]
  },
  {
   "cell_type": "code",
   "execution_count": 2,
   "metadata": {},
   "outputs": [
    {
     "data": {
      "text/plain": [
       "5000"
      ]
     },
     "execution_count": 2,
     "metadata": {},
     "output_type": "execute_result"
    }
   ],
   "source": [
    "# set [COCO_PATH] to the directory to your local copy of the COCO dataset\n",
    "COCO_PATH = \"/datasets/shared_datasets/coco/\"\n",
    "\n",
    "data = MSCOCODataset(root=COCO_PATH, split=\"val\")\n",
    "len(data)"
   ]
  },
  {
   "cell_type": "code",
   "execution_count": 5,
   "metadata": {},
   "outputs": [
    {
     "name": "stdout",
     "output_type": "stream",
     "text": [
      "PDF created with 5000 images on 1250 pages.\n"
     ]
    }
   ],
   "source": [
    "import torch\n",
    "from PIL import Image\n",
    "from reportlab.pdfgen import canvas\n",
    "from reportlab.lib.units import inch\n",
    "from reportlab.lib.pagesizes import letter\n",
    "from reportlab.lib.utils import ImageReader\n",
    "from reportlab.pdfbase import pdfmetrics\n",
    "from reportlab.pdfbase.ttfonts import TTFont\n",
    "import math\n",
    "import io\n",
    "import os\n",
    "\n",
    "def create_dataset_pdf(dataloader, output_filename='dataset_images.pdf'):\n",
    "    # Set up the PDF canvas\n",
    "    c = canvas.Canvas(output_filename, pagesize=letter)\n",
    "    width, height = letter\n",
    "\n",
    "    # Register a default font\n",
    "    pdfmetrics.registerFont(TTFont('Monospace', \"monospace.medium.ttf\"))#'arial.ttf'))\n",
    "\n",
    "    # Calculate image size and positions\n",
    "    image_width = width / 2 - 0.5 * inch\n",
    "    image_height = (height / 2 - 0.75 * inch) * 0.9  # Reduce image height to make room for title\n",
    "    title_height = (height / 2 - 0.75 * inch) * 0.1  # Height for the title\n",
    "    positions = [\n",
    "        (0.25 * inch, height - 0.25 * inch - image_height - title_height),\n",
    "        (width / 2 + 0.25 * inch, height - 0.25 * inch - image_height - title_height),\n",
    "        (0.25 * inch, 0.25 * inch + title_height),\n",
    "        (width / 2 + 0.25 * inch, 0.25 * inch + title_height)\n",
    "    ]\n",
    "\n",
    "    image_count = 0\n",
    "    for batch in dataloader:\n",
    "        image_paths, image_sizes, images, ground_truth = batch\n",
    "\n",
    "        for img, path in zip(images, image_paths):\n",
    "            # Calculate position for this image\n",
    "            pos = positions[image_count % 4]\n",
    "\n",
    "            # Convert JpegImageFile to bytes\n",
    "            img_byte_arr = io.BytesIO()\n",
    "            img.save(img_byte_arr, format='JPEG')\n",
    "            img_byte_arr = img_byte_arr.getvalue()\n",
    "\n",
    "            # Create an ImageReader object\n",
    "            img_reader = ImageReader(io.BytesIO(img_byte_arr))\n",
    "\n",
    "            # Draw image\n",
    "            c.drawImage(img_reader, pos[0], pos[1], width=image_width, height=image_height)\n",
    "\n",
    "            # Draw title (image path)\n",
    "            c.setFont('Monospace', 8)\n",
    "            title = os.path.basename(path)  # Use only the filename, not the full path\n",
    "            title_width = c.stringWidth(title, 'Monospace', 8)\n",
    "            if title_width > image_width:\n",
    "                # If title is too long, truncate it\n",
    "                while title_width > image_width and len(title) > 3:\n",
    "                    title = title[:-4] + '...'  # Remove 3 characters and add ellipsis\n",
    "                    title_width = c.stringWidth(title, 'Monospace', 8)\n",
    "            c.drawString(pos[0] + (image_width - title_width) / 2, pos[1] - title_height / 2, title)\n",
    "\n",
    "            image_count += 1\n",
    "\n",
    "            # Start a new page if we've filled this one\n",
    "            if image_count % 4 == 0:\n",
    "                c.showPage()\n",
    "\n",
    "    # Save the PDF\n",
    "    c.save()\n",
    "\n",
    "    print(f\"PDF created with {image_count} images on {math.ceil(image_count / 4)} pages.\")\n",
    "\n",
    "\n",
    "# Use the function\n",
    "dataloader = torch.utils.data.DataLoader(data, batch_size=64, shuffle=False,\n",
    "    collate_fn=data._collate_fn,)\n",
    "create_dataset_pdf(dataloader)"
   ]
  },
  {
   "cell_type": "code",
   "execution_count": null,
   "metadata": {},
   "outputs": [],
   "source": []
  }
 ],
 "metadata": {
  "kernelspec": {
   "display_name": ".venv",
   "language": "python",
   "name": "python3"
  },
  "language_info": {
   "codemirror_mode": {
    "name": "ipython",
    "version": 3
   },
   "file_extension": ".py",
   "mimetype": "text/x-python",
   "name": "python",
   "nbconvert_exporter": "python",
   "pygments_lexer": "ipython3",
   "version": "3.11.10"
  }
 },
 "nbformat": 4,
 "nbformat_minor": 2
}
