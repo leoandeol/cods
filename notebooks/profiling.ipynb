{
 "cells": [
  {
   "cell_type": "code",
   "execution_count": 1,
   "metadata": {},
   "outputs": [],
   "source": [
    "%load_ext autoreload\n",
    "%load_ext line_profiler\n",
    "%autoreload 2\n"
   ]
  },
  {
   "cell_type": "code",
   "execution_count": 2,
   "metadata": {},
   "outputs": [
    {
     "name": "stderr",
     "output_type": "stream",
     "text": [
      "Using cache found in /home/leo.andeol/.cache/torch/hub/facebookresearch_detr_main\n",
      "/home/leo.andeol/envs/cods_13/cods/.venv/lib/python3.11/site-packages/torchvision/models/_utils.py:208: UserWarning: The parameter 'pretrained' is deprecated since 0.13 and may be removed in the future, please use 'weights' instead.\n",
      "  warnings.warn(\n",
      "/home/leo.andeol/envs/cods_13/cods/.venv/lib/python3.11/site-packages/torchvision/models/_utils.py:223: UserWarning: Arguments other than a weight enum or `None` for 'weights' are deprecated since 0.13 and may be removed in the future. The current behavior is equivalent to passing `weights=ResNet50_Weights.IMAGENET1K_V1`. You can also use `weights=ResNet50_Weights.DEFAULT` to get the most up-to-date weights.\n",
      "  warnings.warn(msg)\n"
     ]
    },
    {
     "name": "stdout",
     "output_type": "stream",
     "text": [
      "len(data) = 5000\n",
      "len(data_cal) = 400\n",
      "len(data_val) = 400\n"
     ]
    }
   ],
   "source": [
    "from cods.od.data import MSCOCODataset\n",
    "from cods.od.models import YOLOModel, DETRModel\n",
    "import logging\n",
    "import os\n",
    "\n",
    "os.environ[\"CUDA_DEVICE_ORDER\"] = \"PCI_BUS_ID\"  # see issue #152\n",
    "os.environ[\"CUDA_VISIBLE_DEVICES\"] = (\n",
    "    \"1\"  # chose the GPU. If only one, then \"0\"\n",
    ")\n",
    "\n",
    "logging.getLogger().setLevel(logging.INFO)\n",
    "\n",
    "# set [COCO_PATH] to the directory to your local copy of the COCO dataset\n",
    "COCO_PATH = \"/datasets/shared_datasets/coco/\"\n",
    "\n",
    "data = MSCOCODataset(root=COCO_PATH, split=\"val\")\n",
    "\n",
    "calibration_ratio = (\n",
    "    0.5  # set 0.5 to use 50% for calibration and 50% for testing\n",
    ")\n",
    "\n",
    "use_smaller_subset = True  # TODO: Temp\n",
    "\n",
    "if use_smaller_subset:\n",
    "    data_cal, data_val = data.split_dataset(\n",
    "        calibration_ratio, shuffle=False, n_calib_test=800\n",
    "    )\n",
    "else:\n",
    "    data_cal, data_val = data.split_dataset(calibration_ratio, shuffle=False)\n",
    "\n",
    "# model and weights are downloaded from https://github.com/facebookresearch/detr\n",
    "model = DETRModel(model_name=\"detr_resnet50\", pretrained=True, device=\"cuda:0\")\n",
    "#model = YOLOModel(model_name=\"yolov8x.pt\", pretrained=True, device=\"cpu\")\n",
    "\n",
    "\n",
    "print(f\"{len(data) = }\")\n",
    "print(f\"{len(data_cal) = }\")\n",
    "print(f\"{len(data_val) = }\")"
   ]
  },
  {
   "cell_type": "code",
   "execution_count": 3,
   "metadata": {},
   "outputs": [
    {
     "name": "stdout",
     "output_type": "stream",
     "text": [
      "Predictions already exist, loading them...\n",
      "Predictions already exist, loading them...\n"
     ]
    }
   ],
   "source": [
    "preds_cal = model.build_predictions(\n",
    "    data_cal,\n",
    "    dataset_name=\"mscoco\",\n",
    "    split_name=\"cal\",\n",
    "    batch_size=12,\n",
    "    collate_fn=data._collate_fn,  # TODO: make this a default for COCO\n",
    "    shuffle=False,\n",
    "    force_recompute=False,  # False,\n",
    "    deletion_method=\"nms\",\n",
    ")\n",
    "preds_val = model.build_predictions(\n",
    "    data_val,\n",
    "    dataset_name=\"mscoco\",\n",
    "    split_name=\"test\",\n",
    "    batch_size=12,\n",
    "    collate_fn=data._collate_fn,\n",
    "    shuffle=False,\n",
    "    force_recompute=False,  # False,\n",
    "    deletion_method=\"nms\",\n",
    ")\n",
    "\n",
    "# Filter the preds_cal and preds_val with confidence below 0.001\n",
    "\n",
    "\n",
    "def filter_preds(preds, confidence_threshold=0.001):\n",
    "    filters = [\n",
    "        conf > confidence_threshold\n",
    "        if (conf > confidence_threshold).any()\n",
    "        else conf.argmin(0)[None]\n",
    "        for conf in preds.confidences\n",
    "    ]\n",
    "    preds.pred_boxes = [pbs[f] for pbs, f in zip(preds.pred_boxes, filters)]\n",
    "    preds.pred_cls = [pcs[f] for pcs, f in zip(preds.pred_cls, filters)]\n",
    "    preds.confidences = [\n",
    "        conf[f] for conf, f in zip(preds.confidences, filters)\n",
    "    ]\n",
    "    return preds\n",
    "\n",
    "\n",
    "preds_cal = filter_preds(preds_cal)\n",
    "preds_val = filter_preds(preds_val)"
   ]
  },
  {
   "cell_type": "code",
   "execution_count": 4,
   "metadata": {},
   "outputs": [],
   "source": [
    "from cods.od.utils import match_predictions_to_true_boxes"
   ]
  },
  {
   "cell_type": "markdown",
   "metadata": {},
   "source": [
    "# Avant\n",
    "1.05 s ± 56.7 ms per loop (mean ± std. dev. of 7 runs, 1 loop each)"
   ]
  },
  {
   "cell_type": "code",
   "execution_count": 5,
   "metadata": {},
   "outputs": [
    {
     "name": "stdout",
     "output_type": "stream",
     "text": [
      "Matching = [[70], [10], [0], [70], [10], [10], [6], [66], [10], [70], [2], [30], [10], [70], [10], [10], [70], [10], [7]], len=19\n",
      "Matching = [[12], [45], [33], [33], [1], [33], [0], [7], [33], [8], [33], [33], [10], [8]], len=14\n",
      "Matching = [[0], [2], [1], [3], [2], [44], [6]], len=7\n"
     ]
    }
   ],
   "source": [
    "matching = match_predictions_to_true_boxes(preds_cal,\"hausdorff\", class_factor=None)\n",
    "for i in range(3):  \n",
    "    print(f\"Matching = {matching[i]}, len={len(matching[i])}\")"
   ]
  },
  {
   "cell_type": "code",
   "execution_count": 6,
   "metadata": {},
   "outputs": [
    {
     "name": "stdout",
     "output_type": "stream",
     "text": [
      "91.1 ms ± 183 μs per loop (mean ± std. dev. of 7 runs, 10 loops each)\n"
     ]
    }
   ],
   "source": [
    "%%timeit \n",
    "match_predictions_to_true_boxes(preds_cal,\"hausdorff\", class_factor=None)"
   ]
  },
  {
   "cell_type": "code",
   "execution_count": 7,
   "metadata": {},
   "outputs": [
    {
     "name": "stdout",
     "output_type": "stream",
     "text": [
      "Timer unit: 1e-09 s\n",
      "\n",
      "Total time: 0.0966704 s\n",
      "File: /home/leo.andeol/envs/cods_13/cods/cods/od/utils.py\n",
      "Function: match_predictions_to_true_boxes at line 369\n",
      "\n",
      "Line #      Hits         Time  Per Hit   % Time  Line Contents\n",
      "==============================================================\n",
      "   369                                           def match_predictions_to_true_boxes(\n",
      "   370                                               preds,\n",
      "   371                                               distance_function,\n",
      "   372                                               overload_confidence_threshold=None,\n",
      "   373                                               verbose=False,\n",
      "   374                                               hungarian=False,\n",
      "   375                                               idx=None,\n",
      "   376                                               class_factor: float = 0.25,\n",
      "   377                                           ) -> None:\n",
      "   378                                               \"\"\"Matching predictions to true boxes. Done in place, modifies the preds object.\"\"\"\n",
      "   379                                               # TODO(leo): switch to gpu\n",
      "   380         1        561.0    561.0      0.0      dist_iou = lambda x, y: -f_iou(x, y)\n",
      "   381         1        261.0    261.0      0.0      dist_generalized_iou = lambda x, y: -generalized_iou(x, y)\n",
      "   382         1        520.0    520.0      0.0      DISTANCE_FUNCTIONS = {\n",
      "   383         1         90.0     90.0      0.0          \"iou\": dist_iou,\n",
      "   384         1         70.0     70.0      0.0          \"giou\": dist_generalized_iou,\n",
      "   385         1        150.0    150.0      0.0          \"hausdorff\": assymetric_hausdorff_distance_old,\n",
      "   386         1         91.0     91.0      0.0          \"lac\": None,\n",
      "   387         1        110.0    110.0      0.0          \"mix\": None,\n",
      "   388                                               }\n",
      "   389                                           \n",
      "   390         1        150.0    150.0      0.0      if verbose and distance_function is None:\n",
      "   391                                                   print(\"Using default:  asymmetric Hausdorff distance\")\n",
      "   392                                           \n",
      "   393         1        230.0    230.0      0.0      if distance_function not in DISTANCE_FUNCTIONS:\n",
      "   394                                                   raise ValueError(\n",
      "   395                                                       f\"Distance function {distance_function} not supported, must be one of {DISTANCE_FUNCTIONS.keys()}\",\n",
      "   396                                                   )\n",
      "   397                                           \n",
      "   398         1        211.0    211.0      0.0      f_dist = DISTANCE_FUNCTIONS[distance_function]\n",
      "   399                                           \n",
      "   400         1        110.0    110.0      0.0      all_matching = []\n",
      "   401         1        110.0    110.0      0.0      if overload_confidence_threshold is not None:\n",
      "   402                                                   conf_thr = overload_confidence_threshold\n",
      "   403         1        401.0    401.0      0.0      elif preds.confidence_threshold is not None:\n",
      "   404                                                   conf_thr = preds.confidence_threshold\n",
      "   405                                               else:\n",
      "   406         1        130.0    130.0      0.0          conf_thr = 0\n",
      "   407                                           \n",
      "   408         1       1653.0   1653.0      0.0      if not isinstance(conf_thr, torch.Tensor):\n",
      "   409         1      15730.0  15730.0      0.0          conf_thr = torch.tensor(conf_thr)\n",
      "   410                                           \n",
      "   411         1       1322.0   1322.0      0.0      device = preds.pred_boxes[0].device\n",
      "   412                                           \n",
      "   413                                               # To only update it on a single image\n",
      "   414         1        150.0    150.0      0.0      if idx is not None:\n",
      "   415                                                   # filter pred_boxes with low objectness\n",
      "   416                                                   pred_boxess = [\n",
      "   417                                                       preds.pred_boxes[idx][preds.confidences[idx] >= conf_thr],\n",
      "   418                                                   ]\n",
      "   419                                                   true_boxess = [preds.true_boxes[idx]]\n",
      "   420                                           \n",
      "   421                                                   preds_clss = [preds.pred_cls[idx][preds.confidences[idx] >= conf_thr]]\n",
      "   422                                           \n",
      "   423                                                   true_clss = [preds.true_cls[idx]]\n",
      "   424                                           \n",
      "   425                                               else:\n",
      "   426         2   18222683.0    9e+06     18.9          pred_boxess = [\n",
      "   427                                                       x[y >= conf_thr]\n",
      "   428         1       1222.0   1222.0      0.0              for x, y in zip(preds.pred_boxes, preds.confidences)\n",
      "   429                                                   ]\n",
      "   430         1      27993.0  27993.0      0.0          true_boxess = [true_boxes_i for true_boxes_i in preds.true_boxes]\n",
      "   431                                           \n",
      "   432         2   18170025.0    9e+06     18.8          preds_clss = [\n",
      "   433         1        922.0    922.0      0.0              x[y >= conf_thr] for x, y in zip(preds.pred_cls, preds.confidences)\n",
      "   434                                                   ]\n",
      "   435                                           \n",
      "   436         1      27182.0  27182.0      0.0          true_clss = [true_cls_i for true_cls_i in preds.true_cls]\n",
      "   437                                           \n",
      "   438       402     939130.0   2336.1      1.0      for pred_boxes, true_boxes, pred_cls, true_cls in tqdm(\n",
      "   439         1        842.0    842.0      0.0          zip(pred_boxess, true_boxess, preds_clss, true_clss),\n",
      "   440         1        160.0    160.0      0.0          disable=not verbose,\n",
      "   441                                               ):\n",
      "   442       400     587405.0   1468.5      0.6          if len(true_boxes) == 0:\n",
      "   443         4        881.0    220.2      0.0              matching = []\n",
      "   444       396     481358.0   1215.6      0.5          elif len(pred_boxes) == 0:\n",
      "   445                                                       matching = [[]] * len(true_boxes)\n",
      "   446                                                   else:\n",
      "   447       396    4567775.0  11534.8      4.7              true_boxes = true_boxes.clone()\n",
      "   448       396    2953712.0   7458.9      3.1              pred_boxes = pred_boxes.clone()\n",
      "   449       396     108376.0    273.7      0.1              if distance_function == \"hausdorff\":\n",
      "   450       792   35936307.0  45374.1     37.2                  distance_matrix = assymetric_hausdorff_distance(\n",
      "   451       396      38659.0     97.6      0.0                      true_boxes,\n",
      "   452       396      34369.0     86.8      0.0                      pred_boxes,\n",
      "   453                                                           )\n",
      "   454                                                       elif distance_function == \"lac\":\n",
      "   455                                                           distance_matrix = f_lac(true_cls, pred_cls)\n",
      "   456                                                       elif distance_function == \"mix\":\n",
      "   457                                                           l_lac = f_lac(true_cls, pred_cls)\n",
      "   458                                                           l_ass = assymetric_hausdorff_distance(true_boxes, pred_boxes)\n",
      "   459                                                           l_ass /= torch.max(l_ass)\n",
      "   460                                                           distance_matrix = (\n",
      "   461                                                               class_factor * l_lac + (1 - class_factor) * l_ass\n",
      "   462                                                           )\n",
      "   463                                                       elif distance_function == \"giou\":\n",
      "   464                                                           distance_matrix = vectorized_generalized_iou(\n",
      "   465                                                               true_boxes,\n",
      "   466                                                               pred_boxes,\n",
      "   467                                                           )\n",
      "   468                                                       else:\n",
      "   469                                                           raise NotImplementedError(\n",
      "   470                                                               \"Only hausdorff and lac are supported\",\n",
      "   471                                                           )\n",
      "   472       396     101875.0    257.3      0.1              if hungarian:\n",
      "   473                                                           # TODO: to test\n",
      "   474                                                           row_ind, col_ind = linear_sum_assignment(distance_matrix)\n",
      "   475                                                           matching = [[]] * len(true_boxes)\n",
      "   476                                                           for x, y in zip(row_ind, col_ind):\n",
      "   477                                                               if x < len(true_boxes) and y < len(pred_boxes):\n",
      "   478                                                                   matching[x] = [y]\n",
      "   479                                                       else:\n",
      "   480       396      56589.0    142.9      0.1                  matching = (\n",
      "   481       396    3828074.0   9666.9      4.0                      torch.argmin(distance_matrix, dim=1)\n",
      "   482       396    6240056.0  15757.7      6.5                      .cpu()\n",
      "   483       396    1608121.0   4060.9      1.7                      .numpy()\n",
      "   484       396     497960.0   1257.5      0.5                      .reshape(-1, 1)\n",
      "   485       396     535217.0   1351.6      0.6                      .tolist()\n",
      "   486                                                           )\n",
      "   487                                           \n",
      "   488       400    1439617.0   3599.0      1.5          assert len(matching) == len(true_boxes)\n",
      "   489       400     167837.0    419.6      0.2          all_matching.append(matching)\n",
      "   490                                           \n",
      "   491         1        131.0    131.0      0.0      if idx is not None:\n",
      "   492                                                   return all_matching[0]\n",
      "   493         1      73719.0  73719.0      0.1      preds.matching = all_matching\n",
      "   494         1        140.0    140.0      0.0      return all_matching"
     ]
    }
   ],
   "source": [
    "%lprun -f match_predictions_to_true_boxes match_predictions_to_true_boxes(preds_cal,\"hausdorff\", class_factor=None)"
   ]
  },
  {
   "cell_type": "markdown",
   "metadata": {},
   "source": [
    "# Après"
   ]
  },
  {
   "cell_type": "code",
   "execution_count": 8,
   "metadata": {},
   "outputs": [
    {
     "name": "stdout",
     "output_type": "stream",
     "text": [
      "Matching = [[70], [10], [0], [70], [10], [10], [6], [66], [10], [70], [2], [30], [10], [70], [10], [10], [70], [10], [7]], len=19\n",
      "Matching = [[12], [45], [33], [33], [1], [33], [0], [7], [33], [8], [33], [33], [10], [8]], len=14\n",
      "Matching = [[0], [2], [1], [3], [2], [44], [6]], len=7\n"
     ]
    }
   ],
   "source": [
    "matching = match_predictions_to_true_boxes(preds_cal,\"hausdorff\")\n",
    "for i in range(3):  \n",
    "    print(f\"Matching = {matching[i]}, len={len(matching[i])}\")"
   ]
  },
  {
   "cell_type": "code",
   "execution_count": 9,
   "metadata": {},
   "outputs": [
    {
     "name": "stdout",
     "output_type": "stream",
     "text": [
      "87.8 ms ± 5.92 ms per loop (mean ± std. dev. of 7 runs, 10 loops each)\n"
     ]
    }
   ],
   "source": [
    "%%timeit \n",
    "match_predictions_to_true_boxes(preds_cal,\"hausdorff\")"
   ]
  },
  {
   "cell_type": "code",
   "execution_count": 10,
   "metadata": {},
   "outputs": [
    {
     "name": "stdout",
     "output_type": "stream",
     "text": [
      "Timer unit: 1e-09 s\n",
      "\n",
      "Total time: 0.079382 s\n",
      "File: /home/leo.andeol/envs/cods_13/cods/cods/od/utils.py\n",
      "Function: match_predictions_to_true_boxes at line 369\n",
      "\n",
      "Line #      Hits         Time  Per Hit   % Time  Line Contents\n",
      "==============================================================\n",
      "   369                                           def match_predictions_to_true_boxes(\n",
      "   370                                               preds,\n",
      "   371                                               distance_function,\n",
      "   372                                               overload_confidence_threshold=None,\n",
      "   373                                               verbose=False,\n",
      "   374                                               hungarian=False,\n",
      "   375                                               idx=None,\n",
      "   376                                               class_factor: float = 0.25,\n",
      "   377                                           ) -> None:\n",
      "   378                                               \"\"\"Matching predictions to true boxes. Done in place, modifies the preds object.\"\"\"\n",
      "   379                                               # TODO(leo): switch to gpu\n",
      "   380         1        541.0    541.0      0.0      dist_iou = lambda x, y: -f_iou(x, y)\n",
      "   381         1        251.0    251.0      0.0      dist_generalized_iou = lambda x, y: -generalized_iou(x, y)\n",
      "   382         1        491.0    491.0      0.0      DISTANCE_FUNCTIONS = {\n",
      "   383         1         90.0     90.0      0.0          \"iou\": dist_iou,\n",
      "   384         1         61.0     61.0      0.0          \"giou\": dist_generalized_iou,\n",
      "   385         1        140.0    140.0      0.0          \"hausdorff\": assymetric_hausdorff_distance_old,\n",
      "   386         1         90.0     90.0      0.0          \"lac\": None,\n",
      "   387         1         81.0     81.0      0.0          \"mix\": None,\n",
      "   388                                               }\n",
      "   389                                           \n",
      "   390         1        141.0    141.0      0.0      if verbose and distance_function is None:\n",
      "   391                                                   print(\"Using default:  asymmetric Hausdorff distance\")\n",
      "   392                                           \n",
      "   393         1        220.0    220.0      0.0      if distance_function not in DISTANCE_FUNCTIONS:\n",
      "   394                                                   raise ValueError(\n",
      "   395                                                       f\"Distance function {distance_function} not supported, must be one of {DISTANCE_FUNCTIONS.keys()}\",\n",
      "   396                                                   )\n",
      "   397                                           \n",
      "   398         1        180.0    180.0      0.0      f_dist = DISTANCE_FUNCTIONS[distance_function]\n",
      "   399                                           \n",
      "   400         1        110.0    110.0      0.0      all_matching = []\n",
      "   401         1        110.0    110.0      0.0      if overload_confidence_threshold is not None:\n",
      "   402                                                   conf_thr = overload_confidence_threshold\n",
      "   403         1        521.0    521.0      0.0      elif preds.confidence_threshold is not None:\n",
      "   404                                                   conf_thr = preds.confidence_threshold\n",
      "   405                                               else:\n",
      "   406         1        140.0    140.0      0.0          conf_thr = 0\n",
      "   407                                           \n",
      "   408         1       1192.0   1192.0      0.0      if not isinstance(conf_thr, torch.Tensor):\n",
      "   409         1      14538.0  14538.0      0.0          conf_thr = torch.tensor(conf_thr)\n",
      "   410                                           \n",
      "   411         1       1683.0   1683.0      0.0      device = preds.pred_boxes[0].device\n",
      "   412                                           \n",
      "   413                                               # To only update it on a single image\n",
      "   414         1        171.0    171.0      0.0      if idx is not None:\n",
      "   415                                                   # filter pred_boxes with low objectness\n",
      "   416                                                   pred_boxess = [\n",
      "   417                                                       preds.pred_boxes[idx][preds.confidences[idx] >= conf_thr],\n",
      "   418                                                   ]\n",
      "   419                                                   true_boxess = [preds.true_boxes[idx]]\n",
      "   420                                           \n",
      "   421                                                   preds_clss = [preds.pred_cls[idx][preds.confidences[idx] >= conf_thr]]\n",
      "   422                                           \n",
      "   423                                                   true_clss = [preds.true_cls[idx]]\n",
      "   424                                           \n",
      "   425                                               else:\n",
      "   426         2   14954935.0    7e+06     18.8          pred_boxess = [\n",
      "   427                                                       x[y >= conf_thr]\n",
      "   428         1        942.0    942.0      0.0              for x, y in zip(preds.pred_boxes, preds.confidences)\n",
      "   429                                                   ]\n",
      "   430         1      19326.0  19326.0      0.0          true_boxess = [true_boxes_i for true_boxes_i in preds.true_boxes]\n",
      "   431                                           \n",
      "   432         2   14748916.0    7e+06     18.6          preds_clss = [\n",
      "   433         1        832.0    832.0      0.0              x[y >= conf_thr] for x, y in zip(preds.pred_cls, preds.confidences)\n",
      "   434                                                   ]\n",
      "   435                                           \n",
      "   436         1      19687.0  19687.0      0.0          true_clss = [true_cls_i for true_cls_i in preds.true_cls]\n",
      "   437                                           \n",
      "   438       402     766608.0   1907.0      1.0      for pred_boxes, true_boxes, pred_cls, true_cls in tqdm(\n",
      "   439         1        672.0    672.0      0.0          zip(pred_boxess, true_boxess, preds_clss, true_clss),\n",
      "   440         1        150.0    150.0      0.0          disable=not verbose,\n",
      "   441                                               ):\n",
      "   442       400     413129.0   1032.8      0.5          if len(true_boxes) == 0:\n",
      "   443         4        781.0    195.2      0.0              matching = []\n",
      "   444       396     332694.0    840.1      0.4          elif len(pred_boxes) == 0:\n",
      "   445                                                       matching = [[]] * len(true_boxes)\n",
      "   446                                                   else:\n",
      "   447       396    3868378.0   9768.6      4.9              true_boxes = true_boxes.clone()\n",
      "   448       396    2177169.0   5497.9      2.7              pred_boxes = pred_boxes.clone()\n",
      "   449       396      83903.0    211.9      0.1              if distance_function == \"hausdorff\":\n",
      "   450       792   28981159.0  36592.4     36.5                  distance_matrix = assymetric_hausdorff_distance(\n",
      "   451       396      39070.0     98.7      0.0                      true_boxes,\n",
      "   452       396      31232.0     78.9      0.0                      pred_boxes,\n",
      "   453                                                           )\n",
      "   454                                                       elif distance_function == \"lac\":\n",
      "   455                                                           distance_matrix = f_lac(true_cls, pred_cls)\n",
      "   456                                                       elif distance_function == \"mix\":\n",
      "   457                                                           l_lac = f_lac(true_cls, pred_cls)\n",
      "   458                                                           l_ass = assymetric_hausdorff_distance(true_boxes, pred_boxes)\n",
      "   459                                                           l_ass /= torch.max(l_ass)\n",
      "   460                                                           distance_matrix = (\n",
      "   461                                                               class_factor * l_lac + (1 - class_factor) * l_ass\n",
      "   462                                                           )\n",
      "   463                                                       elif distance_function == \"giou\":\n",
      "   464                                                           distance_matrix = vectorized_generalized_iou(\n",
      "   465                                                               true_boxes,\n",
      "   466                                                               pred_boxes,\n",
      "   467                                                           )\n",
      "   468                                                       else:\n",
      "   469                                                           raise NotImplementedError(\n",
      "   470                                                               \"Only hausdorff and lac are supported\",\n",
      "   471                                                           )\n",
      "   472       396      88711.0    224.0      0.1              if hungarian:\n",
      "   473                                                           # TODO: to test\n",
      "   474                                                           row_ind, col_ind = linear_sum_assignment(distance_matrix)\n",
      "   475                                                           matching = [[]] * len(true_boxes)\n",
      "   476                                                           for x, y in zip(row_ind, col_ind):\n",
      "   477                                                               if x < len(true_boxes) and y < len(pred_boxes):\n",
      "   478                                                                   matching[x] = [y]\n",
      "   479                                                       else:\n",
      "   480       396      44240.0    111.7      0.1                  matching = (\n",
      "   481       396    3117399.0   7872.2      3.9                      torch.argmin(distance_matrix, dim=1)\n",
      "   482       396    5706010.0  14409.1      7.2                      .cpu()\n",
      "   483       396    1487928.0   3757.4      1.9                      .numpy()\n",
      "   484       396     473148.0   1194.8      0.6                      .reshape(-1, 1)\n",
      "   485       396     482818.0   1219.2      0.6                      .tolist()\n",
      "   486                                                           )\n",
      "   487                                           \n",
      "   488       400    1314683.0   3286.7      1.7          assert len(matching) == len(true_boxes)\n",
      "   489       400     131633.0    329.1      0.2          all_matching.append(matching)\n",
      "   490                                           \n",
      "   491         1        170.0    170.0      0.0      if idx is not None:\n",
      "   492                                                   return all_matching[0]\n",
      "   493         1      74821.0  74821.0      0.1      preds.matching = all_matching\n",
      "   494         1         90.0     90.0      0.0      return all_matching"
     ]
    }
   ],
   "source": [
    "%lprun -f match_predictions_to_true_boxes match_predictions_to_true_boxes(preds_cal,\"hausdorff\")"
   ]
  },
  {
   "cell_type": "markdown",
   "metadata": {},
   "source": [
    "# Tests"
   ]
  },
  {
   "cell_type": "code",
   "execution_count": 11,
   "metadata": {},
   "outputs": [],
   "source": [
    "import numpy as np \n",
    "import matplotlib.pyplot as plt\n",
    "import torch\n",
    "from cods.od.utils import assymetric_hausdorff_distance, assymetric_hausdorff_distance_old"
   ]
  },
  {
   "cell_type": "code",
   "execution_count": 12,
   "metadata": {},
   "outputs": [],
   "source": [
    "idx = 11"
   ]
  },
  {
   "cell_type": "code",
   "execution_count": 13,
   "metadata": {},
   "outputs": [],
   "source": [
    "tbs = preds_cal.true_boxes[idx].clone()\n",
    "pbs = preds_cal.pred_boxes[idx].clone()"
   ]
  },
  {
   "cell_type": "code",
   "execution_count": 14,
   "metadata": {},
   "outputs": [],
   "source": [
    "matching1 = []\n",
    "distances1 = np.zeros((len(tbs), len(pbs)))\n",
    "true_boxes = tbs\n",
    "pred_boxes = pbs\n",
    "for i, true_box in enumerate(true_boxes):\n",
    "    distances = []\n",
    "    for j, pred_box in enumerate(pred_boxes):\n",
    "        dist = assymetric_hausdorff_distance_old(true_box, pred_box)\n",
    "        dist = (\n",
    "            dist.cpu().numpy()\n",
    "            if isinstance(dist, torch.Tensor)\n",
    "            else dist\n",
    "        )\n",
    "        distances.append(dist)  # .cpu().numpy())\n",
    "        distances1[i, j] = dist\n",
    "    \n",
    "    matching1.append([np.argmin(distances)])  "
   ]
  },
  {
   "cell_type": "code",
   "execution_count": 15,
   "metadata": {},
   "outputs": [],
   "source": [
    "true_boxes = tbs\n",
    "pred_boxes = pbs\n",
    "\n",
    "distances2 = assymetric_hausdorff_distance(true_boxes, pred_boxes)\n",
    "matching2 = torch.argmin(distances2, dim=1).cpu().numpy().reshape(-1, 1).tolist()"
   ]
  },
  {
   "cell_type": "code",
   "execution_count": 16,
   "metadata": {},
   "outputs": [
    {
     "data": {
      "text/plain": [
       "<matplotlib.image.AxesImage at 0x7d6fb231ac10>"
      ]
     },
     "execution_count": 16,
     "metadata": {},
     "output_type": "execute_result"
    },
    {
     "data": {
      "image/png": "[encoded data removed]",
      "text/plain": [
       "<Figure size 640x480 with 1 Axes>"
      ]
     },
     "metadata": {},
     "output_type": "display_data"
    }
   ],
   "source": [
    "plt.imshow(distances1)"
   ]
  },
  {
   "cell_type": "code",
   "execution_count": 17,
   "metadata": {},
   "outputs": [
    {
     "data": {
      "text/plain": [
       "<matplotlib.image.AxesImage at 0x7d6fb1918090>"
      ]
     },
     "execution_count": 17,
     "metadata": {},
     "output_type": "execute_result"
    },
    {
     "data": {
      "image/png": "[encoded data removed]",
      "text/plain": [
       "<Figure size 640x480 with 1 Axes>"
      ]
     },
     "metadata": {},
     "output_type": "display_data"
    }
   ],
   "source": [
    "plt.imshow(distances2.cpu().numpy())"
   ]
  },
  {
   "cell_type": "code",
   "execution_count": 18,
   "metadata": {},
   "outputs": [
    {
     "name": "stdout",
     "output_type": "stream",
     "text": [
      "[np.int64(0)] [0]\n",
      "[np.int64(76)] [76]\n",
      "[np.int64(76)] [76]\n",
      "[np.int64(23)] [23]\n",
      "[np.int64(6)] [6]\n",
      "[np.int64(24)] [24]\n",
      "[np.int64(48)] [48]\n",
      "[np.int64(23)] [23]\n",
      "[np.int64(76)] [76]\n",
      "[np.int64(76)] [76]\n",
      "[np.int64(76)] [76]\n",
      "[np.int64(76)] [76]\n",
      "[np.int64(23)] [23]\n",
      "[np.int64(76)] [76]\n",
      "[np.int64(1)] [1]\n",
      "[np.int64(29)] [29]\n",
      "[np.int64(23)] [23]\n",
      "[np.int64(76)] [76]\n"
     ]
    }
   ],
   "source": [
    "[print(x,y) for x,y in zip(matching1, matching2)];"
   ]
  },
  {
   "cell_type": "code",
   "execution_count": null,
   "metadata": {},
   "outputs": [],
   "source": []
  }
 ],
 "metadata": {
  "kernelspec": {
   "display_name": ".venv",
   "language": "python",
   "name": "python3"
  },
  "language_info": {
   "codemirror_mode": {
    "name": "ipython",
    "version": 3
   },
   "file_extension": ".py",
   "mimetype": "text/x-python",
   "name": "python",
   "nbconvert_exporter": "python",
   "pygments_lexer": "ipython3",
   "version": "3.11.11"
  }
 },
 "nbformat": 4,
 "nbformat_minor": 2
}
